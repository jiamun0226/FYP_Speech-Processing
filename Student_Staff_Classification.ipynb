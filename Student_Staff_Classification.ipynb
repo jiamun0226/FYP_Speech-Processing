{
  "cells": [
    {
      "cell_type": "markdown",
      "metadata": {
        "id": "vMeDSR-e2Fpa"
      },
      "source": [
        "**Import necessary Packages**"
      ]
    },
    {
      "cell_type": "code",
      "execution_count": null,
      "metadata": {
        "id": "aCtNzULA2Sra"
      },
      "outputs": [],
      "source": [
        "import numpy as np\n",
        "import pandas as pd\n",
        "import matplotlib.pyplot as plt\n",
        "import seaborn as sns\n",
        "import scipy as sp\n",
        "from sklearn import feature_extraction, model_selection, naive_bayes, metrics, svm\n",
        "from sklearn.ensemble import RandomForestClassifier\n",
        "from sklearn.model_selection import train_test_split\n",
        "from sklearn.metrics import precision_recall_fscore_support as score\n",
        "%matplotlib inline"
      ]
    },
    {
      "cell_type": "markdown",
      "metadata": {
        "id": "IfPFZyfF2Kk6"
      },
      "source": [
        "**Read the data using pandas framework with column names label and message**"
      ]
    },
    {
      "cell_type": "code",
      "execution_count": null,
      "metadata": {
        "id": "MCR9ieAK2dKk"
      },
      "outputs": [],
      "source": [
        "dataset = pd.read_csv('/content/student_staff.csv',names=['label','replies'])"
      ]
    },
    {
      "cell_type": "markdown",
      "metadata": {
        "id": "ciuGZlpW2Q5t"
      },
      "source": [
        "Display first five rows from the dataset"
      ]
    },
    {
      "cell_type": "code",
      "execution_count": null,
      "metadata": {
        "colab": {
          "base_uri": "https://localhost:8080/",
          "height": 206
        },
        "id": "3PyGQ1U82320",
        "outputId": "d4859d04-fde2-4890-ae82-2c7d06d54476"
      },
      "outputs": [
        {
          "output_type": "execute_result",
          "data": {
            "text/plain": [
              "     label                                            replies\n",
              "0  student                hi i am a student from this faculty\n",
              "1  student                                            student\n",
              "2  student    yes I am a student who studying in this faculty\n",
              "3  student  yes i am artificial intelligence department st...\n",
              "4  student                                     i am a student"
            ],
            "text/html": [
              "\n",
              "  <div id=\"df-4257f56e-b037-41fa-8853-f02aa6d868c2\">\n",
              "    <div class=\"colab-df-container\">\n",
              "      <div>\n",
              "<style scoped>\n",
              "    .dataframe tbody tr th:only-of-type {\n",
              "        vertical-align: middle;\n",
              "    }\n",
              "\n",
              "    .dataframe tbody tr th {\n",
              "        vertical-align: top;\n",
              "    }\n",
              "\n",
              "    .dataframe thead th {\n",
              "        text-align: right;\n",
              "    }\n",
              "</style>\n",
              "<table border=\"1\" class=\"dataframe\">\n",
              "  <thead>\n",
              "    <tr style=\"text-align: right;\">\n",
              "      <th></th>\n",
              "      <th>label</th>\n",
              "      <th>replies</th>\n",
              "    </tr>\n",
              "  </thead>\n",
              "  <tbody>\n",
              "    <tr>\n",
              "      <th>0</th>\n",
              "      <td>student</td>\n",
              "      <td>hi i am a student from this faculty</td>\n",
              "    </tr>\n",
              "    <tr>\n",
              "      <th>1</th>\n",
              "      <td>student</td>\n",
              "      <td>student</td>\n",
              "    </tr>\n",
              "    <tr>\n",
              "      <th>2</th>\n",
              "      <td>student</td>\n",
              "      <td>yes I am a student who studying in this faculty</td>\n",
              "    </tr>\n",
              "    <tr>\n",
              "      <th>3</th>\n",
              "      <td>student</td>\n",
              "      <td>yes i am artificial intelligence department st...</td>\n",
              "    </tr>\n",
              "    <tr>\n",
              "      <th>4</th>\n",
              "      <td>student</td>\n",
              "      <td>i am a student</td>\n",
              "    </tr>\n",
              "  </tbody>\n",
              "</table>\n",
              "</div>\n",
              "      <button class=\"colab-df-convert\" onclick=\"convertToInteractive('df-4257f56e-b037-41fa-8853-f02aa6d868c2')\"\n",
              "              title=\"Convert this dataframe to an interactive table.\"\n",
              "              style=\"display:none;\">\n",
              "        \n",
              "  <svg xmlns=\"http://www.w3.org/2000/svg\" height=\"24px\"viewBox=\"0 0 24 24\"\n",
              "       width=\"24px\">\n",
              "    <path d=\"M0 0h24v24H0V0z\" fill=\"none\"/>\n",
              "    <path d=\"M18.56 5.44l.94 2.06.94-2.06 2.06-.94-2.06-.94-.94-2.06-.94 2.06-2.06.94zm-11 1L8.5 8.5l.94-2.06 2.06-.94-2.06-.94L8.5 2.5l-.94 2.06-2.06.94zm10 10l.94 2.06.94-2.06 2.06-.94-2.06-.94-.94-2.06-.94 2.06-2.06.94z\"/><path d=\"M17.41 7.96l-1.37-1.37c-.4-.4-.92-.59-1.43-.59-.52 0-1.04.2-1.43.59L10.3 9.45l-7.72 7.72c-.78.78-.78 2.05 0 2.83L4 21.41c.39.39.9.59 1.41.59.51 0 1.02-.2 1.41-.59l7.78-7.78 2.81-2.81c.8-.78.8-2.07 0-2.86zM5.41 20L4 18.59l7.72-7.72 1.47 1.35L5.41 20z\"/>\n",
              "  </svg>\n",
              "      </button>\n",
              "      \n",
              "  <style>\n",
              "    .colab-df-container {\n",
              "      display:flex;\n",
              "      flex-wrap:wrap;\n",
              "      gap: 12px;\n",
              "    }\n",
              "\n",
              "    .colab-df-convert {\n",
              "      background-color: #E8F0FE;\n",
              "      border: none;\n",
              "      border-radius: 50%;\n",
              "      cursor: pointer;\n",
              "      display: none;\n",
              "      fill: #1967D2;\n",
              "      height: 32px;\n",
              "      padding: 0 0 0 0;\n",
              "      width: 32px;\n",
              "    }\n",
              "\n",
              "    .colab-df-convert:hover {\n",
              "      background-color: #E2EBFA;\n",
              "      box-shadow: 0px 1px 2px rgba(60, 64, 67, 0.3), 0px 1px 3px 1px rgba(60, 64, 67, 0.15);\n",
              "      fill: #174EA6;\n",
              "    }\n",
              "\n",
              "    [theme=dark] .colab-df-convert {\n",
              "      background-color: #3B4455;\n",
              "      fill: #D2E3FC;\n",
              "    }\n",
              "\n",
              "    [theme=dark] .colab-df-convert:hover {\n",
              "      background-color: #434B5C;\n",
              "      box-shadow: 0px 1px 3px 1px rgba(0, 0, 0, 0.15);\n",
              "      filter: drop-shadow(0px 1px 2px rgba(0, 0, 0, 0.3));\n",
              "      fill: #FFFFFF;\n",
              "    }\n",
              "  </style>\n",
              "\n",
              "      <script>\n",
              "        const buttonEl =\n",
              "          document.querySelector('#df-4257f56e-b037-41fa-8853-f02aa6d868c2 button.colab-df-convert');\n",
              "        buttonEl.style.display =\n",
              "          google.colab.kernel.accessAllowed ? 'block' : 'none';\n",
              "\n",
              "        async function convertToInteractive(key) {\n",
              "          const element = document.querySelector('#df-4257f56e-b037-41fa-8853-f02aa6d868c2');\n",
              "          const dataTable =\n",
              "            await google.colab.kernel.invokeFunction('convertToInteractive',\n",
              "                                                     [key], {});\n",
              "          if (!dataTable) return;\n",
              "\n",
              "          const docLinkHtml = 'Like what you see? Visit the ' +\n",
              "            '<a target=\"_blank\" href=https://colab.research.google.com/notebooks/data_table.ipynb>data table notebook</a>'\n",
              "            + ' to learn more about interactive tables.';\n",
              "          element.innerHTML = '';\n",
              "          dataTable['output_type'] = 'display_data';\n",
              "          await google.colab.output.renderOutput(dataTable, element);\n",
              "          const docLink = document.createElement('div');\n",
              "          docLink.innerHTML = docLinkHtml;\n",
              "          element.appendChild(docLink);\n",
              "        }\n",
              "      </script>\n",
              "    </div>\n",
              "  </div>\n",
              "  "
            ]
          },
          "metadata": {},
          "execution_count": 5
        }
      ],
      "source": [
        "dataset.head()"
      ]
    },
    {
      "cell_type": "markdown",
      "metadata": {
        "id": "8rKNXicU2XYF"
      },
      "source": [
        "**Based on the labels, the number of student & notstudent replies are counted and plotted**"
      ]
    },
    {
      "cell_type": "code",
      "execution_count": null,
      "metadata": {
        "colab": {
          "base_uri": "https://localhost:8080/",
          "height": 206
        },
        "id": "XJqGMwCn3E-1",
        "outputId": "c0cdb2bf-95fd-4ade-c96c-f7707f514637"
      },
      "outputs": [
        {
          "output_type": "execute_result",
          "data": {
            "text/plain": [
              "        replies                                                               \n",
              "          count unique                                                top freq\n",
              "label                                                                         \n",
              "staff       200    198     I am a member of the staff at this university.    2\n",
              "student     200    197  I am here to take advantage of the unique oppo...    2\n",
              "unknown     300    297                                        I am a car.    2"
            ],
            "text/html": [
              "\n",
              "  <div id=\"df-a7bd3266-5e2a-4697-960c-748cb149bb79\">\n",
              "    <div class=\"colab-df-container\">\n",
              "      <div>\n",
              "<style scoped>\n",
              "    .dataframe tbody tr th:only-of-type {\n",
              "        vertical-align: middle;\n",
              "    }\n",
              "\n",
              "    .dataframe tbody tr th {\n",
              "        vertical-align: top;\n",
              "    }\n",
              "\n",
              "    .dataframe thead tr th {\n",
              "        text-align: left;\n",
              "    }\n",
              "\n",
              "    .dataframe thead tr:last-of-type th {\n",
              "        text-align: right;\n",
              "    }\n",
              "</style>\n",
              "<table border=\"1\" class=\"dataframe\">\n",
              "  <thead>\n",
              "    <tr>\n",
              "      <th></th>\n",
              "      <th colspan=\"4\" halign=\"left\">replies</th>\n",
              "    </tr>\n",
              "    <tr>\n",
              "      <th></th>\n",
              "      <th>count</th>\n",
              "      <th>unique</th>\n",
              "      <th>top</th>\n",
              "      <th>freq</th>\n",
              "    </tr>\n",
              "    <tr>\n",
              "      <th>label</th>\n",
              "      <th></th>\n",
              "      <th></th>\n",
              "      <th></th>\n",
              "      <th></th>\n",
              "    </tr>\n",
              "  </thead>\n",
              "  <tbody>\n",
              "    <tr>\n",
              "      <th>staff</th>\n",
              "      <td>200</td>\n",
              "      <td>198</td>\n",
              "      <td>I am a member of the staff at this university.</td>\n",
              "      <td>2</td>\n",
              "    </tr>\n",
              "    <tr>\n",
              "      <th>student</th>\n",
              "      <td>200</td>\n",
              "      <td>197</td>\n",
              "      <td>I am here to take advantage of the unique oppo...</td>\n",
              "      <td>2</td>\n",
              "    </tr>\n",
              "    <tr>\n",
              "      <th>unknown</th>\n",
              "      <td>300</td>\n",
              "      <td>297</td>\n",
              "      <td>I am a car.</td>\n",
              "      <td>2</td>\n",
              "    </tr>\n",
              "  </tbody>\n",
              "</table>\n",
              "</div>\n",
              "      <button class=\"colab-df-convert\" onclick=\"convertToInteractive('df-a7bd3266-5e2a-4697-960c-748cb149bb79')\"\n",
              "              title=\"Convert this dataframe to an interactive table.\"\n",
              "              style=\"display:none;\">\n",
              "        \n",
              "  <svg xmlns=\"http://www.w3.org/2000/svg\" height=\"24px\"viewBox=\"0 0 24 24\"\n",
              "       width=\"24px\">\n",
              "    <path d=\"M0 0h24v24H0V0z\" fill=\"none\"/>\n",
              "    <path d=\"M18.56 5.44l.94 2.06.94-2.06 2.06-.94-2.06-.94-.94-2.06-.94 2.06-2.06.94zm-11 1L8.5 8.5l.94-2.06 2.06-.94-2.06-.94L8.5 2.5l-.94 2.06-2.06.94zm10 10l.94 2.06.94-2.06 2.06-.94-2.06-.94-.94-2.06-.94 2.06-2.06.94z\"/><path d=\"M17.41 7.96l-1.37-1.37c-.4-.4-.92-.59-1.43-.59-.52 0-1.04.2-1.43.59L10.3 9.45l-7.72 7.72c-.78.78-.78 2.05 0 2.83L4 21.41c.39.39.9.59 1.41.59.51 0 1.02-.2 1.41-.59l7.78-7.78 2.81-2.81c.8-.78.8-2.07 0-2.86zM5.41 20L4 18.59l7.72-7.72 1.47 1.35L5.41 20z\"/>\n",
              "  </svg>\n",
              "      </button>\n",
              "      \n",
              "  <style>\n",
              "    .colab-df-container {\n",
              "      display:flex;\n",
              "      flex-wrap:wrap;\n",
              "      gap: 12px;\n",
              "    }\n",
              "\n",
              "    .colab-df-convert {\n",
              "      background-color: #E8F0FE;\n",
              "      border: none;\n",
              "      border-radius: 50%;\n",
              "      cursor: pointer;\n",
              "      display: none;\n",
              "      fill: #1967D2;\n",
              "      height: 32px;\n",
              "      padding: 0 0 0 0;\n",
              "      width: 32px;\n",
              "    }\n",
              "\n",
              "    .colab-df-convert:hover {\n",
              "      background-color: #E2EBFA;\n",
              "      box-shadow: 0px 1px 2px rgba(60, 64, 67, 0.3), 0px 1px 3px 1px rgba(60, 64, 67, 0.15);\n",
              "      fill: #174EA6;\n",
              "    }\n",
              "\n",
              "    [theme=dark] .colab-df-convert {\n",
              "      background-color: #3B4455;\n",
              "      fill: #D2E3FC;\n",
              "    }\n",
              "\n",
              "    [theme=dark] .colab-df-convert:hover {\n",
              "      background-color: #434B5C;\n",
              "      box-shadow: 0px 1px 3px 1px rgba(0, 0, 0, 0.15);\n",
              "      filter: drop-shadow(0px 1px 2px rgba(0, 0, 0, 0.3));\n",
              "      fill: #FFFFFF;\n",
              "    }\n",
              "  </style>\n",
              "\n",
              "      <script>\n",
              "        const buttonEl =\n",
              "          document.querySelector('#df-a7bd3266-5e2a-4697-960c-748cb149bb79 button.colab-df-convert');\n",
              "        buttonEl.style.display =\n",
              "          google.colab.kernel.accessAllowed ? 'block' : 'none';\n",
              "\n",
              "        async function convertToInteractive(key) {\n",
              "          const element = document.querySelector('#df-a7bd3266-5e2a-4697-960c-748cb149bb79');\n",
              "          const dataTable =\n",
              "            await google.colab.kernel.invokeFunction('convertToInteractive',\n",
              "                                                     [key], {});\n",
              "          if (!dataTable) return;\n",
              "\n",
              "          const docLinkHtml = 'Like what you see? Visit the ' +\n",
              "            '<a target=\"_blank\" href=https://colab.research.google.com/notebooks/data_table.ipynb>data table notebook</a>'\n",
              "            + ' to learn more about interactive tables.';\n",
              "          element.innerHTML = '';\n",
              "          dataTable['output_type'] = 'display_data';\n",
              "          await google.colab.output.renderOutput(dataTable, element);\n",
              "          const docLink = document.createElement('div');\n",
              "          docLink.innerHTML = docLinkHtml;\n",
              "          element.appendChild(docLink);\n",
              "        }\n",
              "      </script>\n",
              "    </div>\n",
              "  </div>\n",
              "  "
            ]
          },
          "metadata": {},
          "execution_count": 6
        }
      ],
      "source": [
        "dataset.groupby('label').describe()"
      ]
    },
    {
      "cell_type": "code",
      "execution_count": null,
      "metadata": {
        "colab": {
          "base_uri": "https://localhost:8080/"
        },
        "id": "gIQeKIamFedx",
        "outputId": "451f577e-bf21-4a42-f8e1-8fe6db5b53cc"
      },
      "outputs": [
        {
          "output_type": "execute_result",
          "data": {
            "text/plain": [
              "unknown    300\n",
              "student    200\n",
              "staff      200\n",
              "Name: label, dtype: int64"
            ]
          },
          "metadata": {},
          "execution_count": 7
        }
      ],
      "source": [
        "dataset.label.value_counts()"
      ]
    },
    {
      "cell_type": "code",
      "execution_count": null,
      "metadata": {
        "colab": {
          "base_uri": "https://localhost:8080/",
          "height": 317
        },
        "id": "iJpLekTR3XfH",
        "outputId": "9439a740-312d-43df-fd82-821142caa9f5"
      },
      "outputs": [
        {
          "output_type": "display_data",
          "data": {
            "text/plain": [
              "<Figure size 432x288 with 1 Axes>"
            ],
            "image/png": "[encoded data removed]"
          },
          "metadata": {
            "needs_background": "light"
          }
        }
      ],
      "source": [
        "count_Class=pd.value_counts(dataset[\"label\"], sort= True)\n",
        "count_Class.plot(kind = 'bar',color = [\"green\",\"red\",\"blue\"])\n",
        "plt.title('Bar Plot')\n",
        "plt.show()"
      ]
    },
    {
      "cell_type": "markdown",
      "metadata": {
        "id": "NJGMMMV_2lYJ"
      },
      "source": [
        "**Now the labels are given a binary class**\n",
        "\n",
        "**Staff : 100**\n",
        "\n",
        "**Student : 010**\n",
        "\n",
        "**Unknown : 001**"
      ]
    },
    {
      "cell_type": "code",
      "execution_count": null,
      "metadata": {
        "colab": {
          "base_uri": "https://localhost:8080/"
        },
        "id": "oQE4XFgwPXdG",
        "outputId": "ef909bbc-1df9-4447-b176-a4047bc98bc0"
      },
      "outputs": [
        {
          "output_type": "stream",
          "name": "stdout",
          "text": [
            "     staff  student  unknown\n",
            "0        0        1        0\n",
            "1        0        1        0\n",
            "2        0        1        0\n",
            "3        0        1        0\n",
            "4        0        1        0\n",
            "..     ...      ...      ...\n",
            "695      0        0        1\n",
            "696      0        0        1\n",
            "697      0        0        1\n",
            "698      0        0        1\n",
            "699      0        0        1\n",
            "\n",
            "[700 rows x 3 columns]\n"
          ]
        }
      ],
      "source": [
        "labelling = pd.get_dummies(dataset['label'])\n",
        "print(labelling)\n",
        "#dataset['label'] = dataset['label'].replace({\"student\": [1,0,0], \"notstudent\": [0,1,0], \"unknown\": [0,0,1]})"
      ]
    },
    {
      "cell_type": "markdown",
      "metadata": {
        "id": "4AE3PG6I4aHW"
      },
      "source": [
        "**Import Necessary for text preprocessing & Training**"
      ]
    },
    {
      "cell_type": "code",
      "execution_count": null,
      "metadata": {
        "id": "1pgpJiwL-EXZ"
      },
      "outputs": [],
      "source": [
        "# helps in text preprocessing\n",
        "from tensorflow.keras.preprocessing.sequence import pad_sequences\n",
        "from tensorflow.keras.preprocessing.text import Tokenizer\n",
        "\n",
        "# helps in model building\n",
        "from tensorflow.keras.models import Sequential\n",
        "from tensorflow.keras.layers import Dense\n",
        "from tensorflow.keras.layers import SimpleRNN\n",
        "from tensorflow.keras.layers import Flatten\n",
        "from tensorflow.keras.layers import Dropout\n",
        "from tensorflow.keras.layers import Embedding\n",
        "from tensorflow.keras.callbacks import EarlyStopping\n",
        "\n",
        "# split data into train and test set\n",
        "from sklearn.model_selection import train_test_split"
      ]
    },
    {
      "cell_type": "markdown",
      "metadata": {
        "id": "ZE22mgEY4rH4"
      },
      "source": [
        "**Dataset split into Train & Test**"
      ]
    },
    {
      "cell_type": "code",
      "execution_count": null,
      "metadata": {
        "id": "ond56Wv4-Oho"
      },
      "outputs": [],
      "source": [
        "X = dataset['replies'].values\n",
        "y = labelling.values\n",
        "X_train, X_test, y_train, y_test = train_test_split(X, y, test_size=0.20, random_state=530)"
      ]
    },
    {
      "cell_type": "markdown",
      "metadata": {
        "id": "VNJnhNCY4wiM"
      },
      "source": [
        "**Text Pre-Processing**\n",
        "\n",
        "**1. Tokenization**\n",
        "\n",
        "**2. Text Encoding**\n",
        "\n",
        "**3. Padding**"
      ]
    },
    {
      "cell_type": "code",
      "execution_count": null,
      "metadata": {
        "id": "s_yuM9Jw_Hu2"
      },
      "outputs": [],
      "source": [
        "t = Tokenizer()\n",
        "t.fit_on_texts(X_train)"
      ]
    },
    {
      "cell_type": "code",
      "execution_count": null,
      "metadata": {
        "colab": {
          "base_uri": "https://localhost:8080/"
        },
        "id": "b537E9We_LWi",
        "outputId": "18a76c7e-ea09-4090-984b-4af3a8709fec"
      },
      "outputs": [
        {
          "output_type": "stream",
          "name": "stdout",
          "text": [
            "[[26, 1, 2, 8, 76, 6], [1, 2, 3, 227]]\n"
          ]
        }
      ],
      "source": [
        "encoded_train = t.texts_to_sequences(X_train)\n",
        "encoded_test = t.texts_to_sequences(X_test)\n",
        "print(encoded_train[0:2])"
      ]
    },
    {
      "cell_type": "code",
      "execution_count": null,
      "metadata": {
        "colab": {
          "base_uri": "https://localhost:8080/"
        },
        "id": "p-egjuJv_OZ1",
        "outputId": "5052c442-5af1-412b-ceb9-13058fecce88"
      },
      "outputs": [
        {
          "output_type": "stream",
          "name": "stdout",
          "text": [
            "[[26  1  2 ...  0  0  0]\n",
            " [ 1  2  3 ...  0  0  0]\n",
            " [ 1  2  3 ...  0  0  0]\n",
            " ...\n",
            " [ 1 35 26 ...  0  0  0]\n",
            " [ 1  2 18 ...  0  0  0]\n",
            " [ 1  2  3 ...  0  0  0]]\n"
          ]
        }
      ],
      "source": [
        "max_length = 50\n",
        "padded_train = pad_sequences(encoded_train, maxlen=max_length, padding='post')\n",
        "padded_test = pad_sequences(encoded_test, maxlen=max_length, padding='post')\n",
        "print(padded_train)"
      ]
    },
    {
      "cell_type": "markdown",
      "metadata": {
        "id": "0nE9HB3Z5ZUk"
      },
      "source": [
        "#### **Model is Built with vocabulary size as the input size.** \n",
        "\n",
        "**Model is compiled and summary generated**"
      ]
    },
    {
      "cell_type": "code",
      "execution_count": null,
      "metadata": {
        "colab": {
          "base_uri": "https://localhost:8080/"
        },
        "id": "kEWCZzSO_Sa4",
        "outputId": "644801fa-19f1-4593-e3c1-d78a80648038"
      },
      "outputs": [
        {
          "output_type": "stream",
          "name": "stdout",
          "text": [
            "Model: \"sequential_21\"\n",
            "_________________________________________________________________\n",
            " Layer (type)                Output Shape              Param #   \n",
            "=================================================================\n",
            " embedding_21 (Embedding)    (None, 50, 24)            10776     \n",
            "                                                                 \n",
            " simple_rnn_21 (SimpleRNN)   (None, 24)                1176      \n",
            "                                                                 \n",
            " dense_21 (Dense)            (None, 3)                 75        \n",
            "                                                                 \n",
            "=================================================================\n",
            "Total params: 12,027\n",
            "Trainable params: 12,027\n",
            "Non-trainable params: 0\n",
            "_________________________________________________________________\n",
            "None\n"
          ]
        }
      ],
      "source": [
        "vocab_size = len(t.word_index) + 1\n",
        "\n",
        "# define the model\n",
        "model = Sequential()\n",
        "model.add(Embedding(vocab_size, 24, input_length=max_length))\n",
        "model.add(SimpleRNN(24, return_sequences=False)) # RNN Application\n",
        "model.add(Dense(3, activation='softmax'))\n",
        "\n",
        "# compile the model\n",
        "model.compile(optimizer='rmsprop', loss='categorical_crossentropy', metrics=['accuracy'])\n",
        "\n",
        "# summarize the model\n",
        "print(model.summary())"
      ]
    },
    {
      "cell_type": "markdown",
      "metadata": {
        "id": "o17Fl5X35zN_"
      },
      "source": [
        "#### **Model is trained and validated for test dataset with 50 epochs.**\n",
        "\n",
        "**Callback is made at an early stage when the validation loss has its first minimum value.**"
      ]
    },
    {
      "cell_type": "code",
      "execution_count": null,
      "metadata": {
        "colab": {
          "base_uri": "https://localhost:8080/"
        },
        "id": "M_0kfX6Q_XzE",
        "outputId": "a0c431d6-df37-4c21-ce17-d566fa111a8a"
      },
      "outputs": [
        {
          "output_type": "stream",
          "name": "stdout",
          "text": [
            "Epoch 1/50\n",
            "18/18 [==============================] - 2s 38ms/step - loss: 0.9636 - accuracy: 0.5786 - val_loss: 0.7554 - val_accuracy: 0.7643\n",
            "Epoch 2/50\n",
            "18/18 [==============================] - 0s 21ms/step - loss: 0.6582 - accuracy: 0.8214 - val_loss: 0.6267 - val_accuracy: 0.8214\n",
            "Epoch 3/50\n",
            "18/18 [==============================] - 0s 22ms/step - loss: 0.4661 - accuracy: 0.9071 - val_loss: 0.5110 - val_accuracy: 0.8429\n",
            "Epoch 4/50\n",
            "18/18 [==============================] - 1s 35ms/step - loss: 0.3415 - accuracy: 0.9411 - val_loss: 0.3732 - val_accuracy: 0.8857\n",
            "Epoch 5/50\n",
            "18/18 [==============================] - 1s 34ms/step - loss: 0.2535 - accuracy: 0.9571 - val_loss: 0.3297 - val_accuracy: 0.9214\n",
            "Epoch 6/50\n",
            "18/18 [==============================] - 0s 14ms/step - loss: 0.1894 - accuracy: 0.9750 - val_loss: 0.2887 - val_accuracy: 0.9071\n",
            "Epoch 7/50\n",
            "18/18 [==============================] - 0s 13ms/step - loss: 0.1377 - accuracy: 0.9786 - val_loss: 0.1972 - val_accuracy: 0.9714\n",
            "Epoch 8/50\n",
            "18/18 [==============================] - 0s 13ms/step - loss: 0.1060 - accuracy: 0.9911 - val_loss: 0.1787 - val_accuracy: 0.9714\n",
            "Epoch 9/50\n",
            "18/18 [==============================] - 0s 13ms/step - loss: 0.0819 - accuracy: 0.9911 - val_loss: 0.1809 - val_accuracy: 0.9643\n",
            "Epoch 10/50\n",
            "18/18 [==============================] - 0s 13ms/step - loss: 0.0548 - accuracy: 0.9946 - val_loss: 0.1575 - val_accuracy: 0.9571\n",
            "Epoch 11/50\n",
            "18/18 [==============================] - 0s 13ms/step - loss: 0.0953 - accuracy: 0.9839 - val_loss: 0.1295 - val_accuracy: 0.9714\n",
            "Epoch 12/50\n",
            "18/18 [==============================] - 0s 14ms/step - loss: 0.0480 - accuracy: 0.9893 - val_loss: 0.2438 - val_accuracy: 0.9357\n",
            "Epoch 13/50\n",
            "18/18 [==============================] - 0s 15ms/step - loss: 0.0299 - accuracy: 0.9964 - val_loss: 0.1117 - val_accuracy: 0.9786\n",
            "Epoch 14/50\n",
            "18/18 [==============================] - 0s 17ms/step - loss: 0.0287 - accuracy: 0.9964 - val_loss: 0.1465 - val_accuracy: 0.9643\n",
            "Epoch 15/50\n",
            "18/18 [==============================] - 0s 15ms/step - loss: 0.0324 - accuracy: 0.9964 - val_loss: 0.1421 - val_accuracy: 0.9571\n",
            "Epoch 16/50\n",
            "18/18 [==============================] - 0s 21ms/step - loss: 0.0295 - accuracy: 0.9964 - val_loss: 0.1458 - val_accuracy: 0.9286\n",
            "Epoch 17/50\n",
            "18/18 [==============================] - 0s 17ms/step - loss: 0.0170 - accuracy: 0.9982 - val_loss: 0.1538 - val_accuracy: 0.9571\n",
            "Epoch 18/50\n",
            "18/18 [==============================] - 0s 18ms/step - loss: 0.0207 - accuracy: 0.9964 - val_loss: 0.1746 - val_accuracy: 0.9500\n",
            "Epoch 19/50\n",
            "18/18 [==============================] - 0s 20ms/step - loss: 0.0373 - accuracy: 0.9839 - val_loss: 0.1020 - val_accuracy: 0.9786\n",
            "Epoch 20/50\n",
            "18/18 [==============================] - 0s 28ms/step - loss: 0.0093 - accuracy: 1.0000 - val_loss: 0.1020 - val_accuracy: 0.9857\n",
            "Epoch 21/50\n",
            "18/18 [==============================] - 0s 14ms/step - loss: 0.0068 - accuracy: 1.0000 - val_loss: 0.1248 - val_accuracy: 0.9786\n",
            "Epoch 22/50\n",
            "18/18 [==============================] - 0s 21ms/step - loss: 0.0188 - accuracy: 0.9982 - val_loss: 0.1564 - val_accuracy: 0.9429\n",
            "Epoch 23/50\n",
            "18/18 [==============================] - 0s 15ms/step - loss: 0.0069 - accuracy: 1.0000 - val_loss: 0.1470 - val_accuracy: 0.9643\n",
            "Epoch 24/50\n",
            "18/18 [==============================] - 0s 19ms/step - loss: 0.0039 - accuracy: 1.0000 - val_loss: 0.1253 - val_accuracy: 0.9786\n",
            "Epoch 25/50\n",
            "18/18 [==============================] - 0s 19ms/step - loss: 0.0439 - accuracy: 0.9911 - val_loss: 0.1529 - val_accuracy: 0.9643\n",
            "Epoch 26/50\n",
            "18/18 [==============================] - 0s 17ms/step - loss: 0.0038 - accuracy: 1.0000 - val_loss: 0.1754 - val_accuracy: 0.9714\n",
            "Epoch 27/50\n",
            "18/18 [==============================] - 0s 15ms/step - loss: 0.0271 - accuracy: 0.9875 - val_loss: 0.3276 - val_accuracy: 0.8857\n",
            "Epoch 28/50\n",
            "18/18 [==============================] - 1s 28ms/step - loss: 0.0061 - accuracy: 1.0000 - val_loss: 0.2630 - val_accuracy: 0.9214\n",
            "Epoch 29/50\n",
            "18/18 [==============================] - 1s 35ms/step - loss: 0.0026 - accuracy: 1.0000 - val_loss: 0.2335 - val_accuracy: 0.9071\n",
            "Epoch 30/50\n",
            "18/18 [==============================] - 1s 38ms/step - loss: 0.0024 - accuracy: 1.0000 - val_loss: 0.1784 - val_accuracy: 0.9714\n",
            "Epoch 30: early stopping\n"
          ]
        },
        {
          "output_type": "execute_result",
          "data": {
            "text/plain": [
              "<keras.callbacks.History at 0x7f68b5662f10>"
            ]
          },
          "metadata": {},
          "execution_count": 163
        }
      ],
      "source": [
        "early_stop = EarlyStopping(monitor='val_loss', mode='min', verbose=1, patience=10)\n",
        "\n",
        "# fit the model\n",
        "model.fit(x=padded_train,\n",
        "         y=y_train,\n",
        "         epochs=50,\n",
        "         validation_data=(padded_test, y_test), verbose=1,\n",
        "         callbacks=[early_stop] )"
      ]
    },
    {
      "cell_type": "code",
      "execution_count": null,
      "metadata": {
        "id": "w3GM0KmD_gsU"
      },
      "outputs": [],
      "source": [
        "from sklearn.metrics import classification_report, confusion_matrix, accuracy_score\n",
        "\n",
        "def c_report(y_true, y_pred):\n",
        "   print(\"Classification Report\")\n",
        "   print(classification_report(y_true, y_pred))\n",
        "   acc_sc = accuracy_score(y_true, y_pred)\n",
        "   print(\"Accuracy : \"+ str(acc_sc))\n",
        "   return acc_sc\n"
      ]
    },
    {
      "cell_type": "markdown",
      "metadata": {
        "id": "YN3uiA1u6Sil"
      },
      "source": [
        "#### **Model Predicted for test dataset.**\n",
        "\n",
        "**Classification report and Confusion Matrix generated** "
      ]
    },
    {
      "cell_type": "code",
      "execution_count": null,
      "metadata": {
        "colab": {
          "base_uri": "https://localhost:8080/"
        },
        "id": "Y-R0YD_j_kq3",
        "outputId": "af4da988-2ae1-4d8e-9623-a137619a95f4"
      },
      "outputs": [
        {
          "output_type": "stream",
          "name": "stdout",
          "text": [
            "5/5 [==============================] - 0s 6ms/step\n"
          ]
        }
      ],
      "source": [
        "pred_test = model.predict(padded_test)\n",
        "preds = (np.equal(pred_test, pred_test.max(axis=1, keepdims=True))).astype(\"int32\")\n",
        "# print(model.predict(padded_test) > 0.5)"
      ]
    },
    {
      "cell_type": "code",
      "execution_count": null,
      "metadata": {
        "colab": {
          "base_uri": "https://localhost:8080/"
        },
        "id": "-xVd1EHD_puP",
        "outputId": "5f7f1739-d19b-4c9b-d81b-2f24debaf28e"
      },
      "outputs": [
        {
          "output_type": "stream",
          "name": "stdout",
          "text": [
            "Classification Report\n",
            "              precision    recall  f1-score   support\n",
            "\n",
            "           0       0.94      0.98      0.96        45\n",
            "           1       0.97      0.91      0.94        35\n",
            "           2       1.00      1.00      1.00        60\n",
            "\n",
            "   micro avg       0.97      0.97      0.97       140\n",
            "   macro avg       0.97      0.96      0.97       140\n",
            "weighted avg       0.97      0.97      0.97       140\n",
            " samples avg       0.97      0.97      0.97       140\n",
            "\n",
            "Accuracy : 0.9714285714285714\n"
          ]
        },
        {
          "output_type": "execute_result",
          "data": {
            "text/plain": [
              "0.9714285714285714"
            ]
          },
          "metadata": {},
          "execution_count": 166
        }
      ],
      "source": [
        "c_report(y_test, preds)"
      ]
    },
    {
      "cell_type": "code",
      "execution_count": null,
      "metadata": {
        "colab": {
          "base_uri": "https://localhost:8080/",
          "height": 295
        },
        "id": "dyZbSkhI_tI8",
        "outputId": "431dbbbf-7f34-455d-86b5-51e16d2164bb"
      },
      "outputs": [
        {
          "output_type": "display_data",
          "data": {
            "text/plain": [
              "<Figure size 360x288 with 2 Axes>"
            ],
            "image/png": "[encoded data removed]"
          },
          "metadata": {
            "needs_background": "light"
          }
        }
      ],
      "source": [
        "cm = confusion_matrix(y_test.argmax(axis=1), preds.argmax(axis=1))\n",
        "cm_df = pd.DataFrame(cm, index = ['STAFF','STUDENT','UNKNOWN'], columns = ['STAFF','STUDENT','UNKNOWN'])\n",
        "plt.figure(figsize=(5,4))\n",
        "sns.heatmap(cm_df, annot=True)\n",
        "plt.title('Confusion Matrix')\n",
        "plt.ylabel('Actual Values')\n",
        "plt.xlabel('Predicted Values')\n",
        "plt.show()"
      ]
    },
    {
      "cell_type": "code",
      "execution_count": null,
      "metadata": {
        "colab": {
          "base_uri": "https://localhost:8080/"
        },
        "id": "AQjsxSHNPBqj",
        "outputId": "1302cc05-f235-49d6-b8b6-b62f1d039d71"
      },
      "outputs": [
        {
          "output_type": "stream",
          "name": "stdout",
          "text": [
            "1/1 [==============================] - 0s 22ms/step\n",
            "[[0.959 0.002 0.039]]\n"
          ]
        }
      ],
      "source": [
        "from tensorflow.keras.preprocessing.text import Tokenizer\n",
        "\n",
        "sms = [\"I am an office staff.\"]\n",
        "# sms = [\"I am a student from Artificial Intelligence Department.\"]\n",
        "# sms = [\"I am a computer science student but not from this university\"]\n",
        "sms_proc = t.texts_to_sequences(sms) #tokenization\n",
        "sms_proc = pad_sequences(sms_proc, maxlen=max_length, padding='post') #padding\n",
        "pred = model.predict(sms_proc)\n",
        "print(np.around(pred,decimals=3))"
      ]
    },
    {
      "cell_type": "markdown",
      "metadata": {
        "id": "xxwf1U4m6rQ7"
      },
      "source": [
        "#### **Save the model and the tokenizer (pickle package helps us to save the tokenizer to use it on new messages)**"
      ]
    },
    {
      "cell_type": "code",
      "execution_count": null,
      "metadata": {
        "id": "eG98AZKD_zcZ"
      },
      "outputs": [],
      "source": [
        "model.save(\"student_model\")"
      ]
    },
    {
      "cell_type": "code",
      "execution_count": null,
      "metadata": {
        "id": "Sl-kHrKD_8yv"
      },
      "outputs": [],
      "source": [
        "import pickle\n",
        "with open('student_model/tokenizer.pkl', 'wb') as output:\n",
        "   pickle.dump(t, output)"
      ]
    },
    {
      "cell_type": "markdown",
      "metadata": {
        "id": "H_SDh4iw66_p"
      },
      "source": [
        "#### **Load the model and the tokenizer and predict whether the new reply is a student, staff or unknown**"
      ]
    },
    {
      "cell_type": "code",
      "execution_count": null,
      "metadata": {
        "id": "raw4JcfWAHt2"
      },
      "outputs": [],
      "source": [
        "import tensorflow as tf\n",
        "\n",
        "s_model = tf.keras.models.load_model(\"student_model\")\n",
        "with open('student_model/tokenizer.pkl', 'rb') as input:\n",
        "    tokenizer = pickle.load(input)"
      ]
    },
    {
      "cell_type": "code",
      "execution_count": null,
      "metadata": {
        "id": "CnYFDSHxJB47"
      },
      "outputs": [],
      "source": [
        "# sms = [\"i am a student from this faculty\"]\n",
        "# sms = [\"i am a staff\"]\n",
        "sms = [\"hello! how are you? im visiting mom next week\"]\n",
        "sms_proc = tokenizer.texts_to_sequences(sms)\n",
        "sms_proc = pad_sequences(sms_proc, maxlen=max_length, padding='post')\n",
        "pred = s_model.predict(sms_proc)\n",
        "print(pred)"
      ]
    },
    {
      "cell_type": "code",
      "execution_count": null,
      "metadata": {
        "id": "Mhsis5iiJVvi",
        "colab": {
          "base_uri": "https://localhost:8080/"
        },
        "outputId": "df9893b6-a0c3-468a-8fc0-49ea31005b26"
      },
      "outputs": [
        {
          "output_type": "stream",
          "name": "stdout",
          "text": [
            "  adding: content/student_model/ (stored 0%)\n",
            "  adding: content/student_model/saved_model.pb (deflated 90%)\n",
            "  adding: content/student_model/assets/ (stored 0%)\n",
            "  adding: content/student_model/tokenizer.pkl (deflated 44%)\n",
            "  adding: content/student_model/keras_metadata.pb (deflated 86%)\n",
            "  adding: content/student_model/variables/ (stored 0%)\n",
            "  adding: content/student_model/variables/variables.index (deflated 60%)\n",
            "  adding: content/student_model/variables/variables.data-00000-of-00001 (deflated 9%)\n"
          ]
        }
      ],
      "source": [
        "!zip -r '/content/student_model.zip' '/content/student_model'"
      ]
    },
    {
      "cell_type": "code",
      "source": [
        "import tensorflow as tf\n",
        "print(tf.__version__)"
      ],
      "metadata": {
        "id": "e_EemDQ35CXb",
        "colab": {
          "base_uri": "https://localhost:8080/"
        },
        "outputId": "d85360fd-61ba-4948-a362-ea21ba07dda7"
      },
      "execution_count": null,
      "outputs": [
        {
          "output_type": "stream",
          "name": "stdout",
          "text": [
            "2.9.2\n"
          ]
        }
      ]
    },
    {
      "cell_type": "code",
      "source": [
        "pip list | grep tensorflow"
      ],
      "metadata": {
        "colab": {
          "base_uri": "https://localhost:8080/"
        },
        "id": "Mi1XsqF_6Tvn",
        "outputId": "024e3159-91b9-42ee-c46e-229fb1251c9c"
      },
      "execution_count": null,
      "outputs": [
        {
          "output_type": "stream",
          "name": "stdout",
          "text": [
            "tensorflow                    2.9.2\n",
            "tensorflow-datasets           4.6.0\n",
            "tensorflow-estimator          2.9.0\n",
            "tensorflow-gcs-config         2.9.1\n",
            "tensorflow-hub                0.12.0\n",
            "tensorflow-io-gcs-filesystem  0.28.0\n",
            "tensorflow-metadata           1.12.0\n",
            "tensorflow-probability        0.17.0\n"
          ]
        }
      ]
    },
    {
      "cell_type": "code",
      "source": [
        "!python -V"
      ],
      "metadata": {
        "colab": {
          "base_uri": "https://localhost:8080/"
        },
        "id": "wrBK2hWR64ZM",
        "outputId": "3699d34c-1404-46ea-9f68-bccb175c0e0e"
      },
      "execution_count": null,
      "outputs": [
        {
          "output_type": "stream",
          "name": "stdout",
          "text": [
            "Python 3.8.16\n"
          ]
        }
      ]
    }
  ],
  "metadata": {
    "colab": {
      "provenance": []
    },
    "gpuClass": "standard",
    "kernelspec": {
      "display_name": "Python 3",
      "name": "python3"
    },
    "language_info": {
      "name": "python"
    }
  },
  "nbformat": 4,
  "nbformat_minor": 0
}